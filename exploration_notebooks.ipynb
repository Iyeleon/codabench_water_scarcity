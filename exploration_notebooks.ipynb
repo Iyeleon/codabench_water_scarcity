{
 "cells": [
  {
   "cell_type": "markdown",
   "id": "602a4776-dcd6-4c43-98e7-990c03767f63",
   "metadata": {},
   "source": [
    "# Exploratory Notebook "
   ]
  },
  {
   "cell_type": "code",
   "execution_count": 1,
   "id": "b800554a-3488-4a22-97eb-5fa79e80cfc0",
   "metadata": {},
   "outputs": [],
   "source": [
    "%load_ext autoreload"
   ]
  },
  {
   "cell_type": "code",
   "execution_count": 2,
   "id": "3fc97170-2189-44d9-b73c-0d2b81878351",
   "metadata": {},
   "outputs": [],
   "source": [
    "%autoreload 2"
   ]
  },
  {
   "cell_type": "markdown",
   "id": "97d11702-80b7-4a57-9d2b-5552797ce2dd",
   "metadata": {},
   "source": [
    "## Set up"
   ]
  },
  {
   "cell_type": "code",
   "execution_count": 1,
   "id": "cc9b96fc-ffd7-492b-9017-f79e0b8235fa",
   "metadata": {},
   "outputs": [],
   "source": [
    "import os\n",
    "import tqdm\n",
    "import toml\n",
    "\n",
    "import pandas\n",
    "import geopandas\n",
    "import rasterio as rio\n",
    "import xarray"
   ]
  },
  {
   "cell_type": "markdown",
   "id": "e4b9fc40-76c3-44fe-937b-092b4f8d0a8c",
   "metadata": {},
   "source": [
    "### Constants"
   ]
  },
  {
   "cell_type": "code",
   "execution_count": null,
   "id": "c850c6c8-7f39-40a0-88e4-b4015e28a3f1",
   "metadata": {},
   "outputs": [],
   "source": []
  }
 ],
 "metadata": {
  "kernelspec": {
   "display_name": "Python [conda env:zindi_geoai]",
   "language": "python",
   "name": "conda-env-zindi_geoai-py"
  },
  "language_info": {
   "codemirror_mode": {
    "name": "ipython",
    "version": 3
   },
   "file_extension": ".py",
   "mimetype": "text/x-python",
   "name": "python",
   "nbconvert_exporter": "python",
   "pygments_lexer": "ipython3",
   "version": "3.12.5"
  }
 },
 "nbformat": 4,
 "nbformat_minor": 5
}
