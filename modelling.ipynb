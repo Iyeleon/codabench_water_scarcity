{
 "cells": [
  {
   "cell_type": "code",
   "execution_count": 1,
   "id": "b05a0ae2-2b73-4766-8d4f-457d017fcf9b",
   "metadata": {},
   "outputs": [],
   "source": [
    "%load_ext autoreload"
   ]
  },
  {
   "cell_type": "code",
   "execution_count": 2,
   "id": "01d0a723-a7d9-40ef-a7af-8e5f42294c84",
   "metadata": {},
   "outputs": [],
   "source": [
    "%autoreload 2"
   ]
  },
  {
   "cell_type": "markdown",
   "id": "482d1e1c-ca56-4df8-922c-f2506f5fbcc1",
   "metadata": {},
   "source": [
    "## Set up"
   ]
  },
  {
   "cell_type": "code",
   "execution_count": 16,
   "id": "a4d8c3f1-ff42-4bfa-b204-9a5e4ef84376",
   "metadata": {},
   "outputs": [],
   "source": [
    "import os\n",
    "import tqdm\n",
    "\n",
    "import matplotlib.pyplot as plt\n",
    "import seaborn as sns\n",
    "\n",
    "import pandas as pd\n",
    "\n",
    "from sklearn.preprocessing import StandardScaler\n",
    "from sklearn.decomposition import PCA\n",
    "from sklearn.pipeline import Pipeline\n",
    "from sklearn.multioutput import RegressorChain\n",
    "from sklearn.base import BaseEstimator\n",
    "\n",
    "import catboost as cb\n",
    "import lightgbm as lgbm\n",
    "import xgboost as xgb\n",
    "\n",
    "import tensorflow as tf\n",
    "\n",
    "from utils import load_config\n",
    "from src.helpers import ContiguousGroupKFold"
   ]
  },
  {
   "cell_type": "markdown",
   "id": "0de16685-82c0-4676-84bd-1cea5a6f39d3",
   "metadata": {},
   "source": [
    "## Constants"
   ]
  },
  {
   "cell_type": "code",
   "execution_count": 4,
   "id": "5678d160-7d03-4ab6-a0bd-6f8ccd9bc938",
   "metadata": {},
   "outputs": [],
   "source": [
    "config = load_config()"
   ]
  },
  {
   "cell_type": "code",
   "execution_count": 5,
   "id": "4244df80-7c6c-4b1c-a2ee-9562f02a1ba9",
   "metadata": {},
   "outputs": [],
   "source": [
    "DATA_DIR = config['final_data']\n",
    "TRAIN = os.path.join(DATA_DIR, 'train.csv')"
   ]
  },
  {
   "cell_type": "markdown",
   "id": "d5257d0b-5caa-4a02-af58-3b7abd666cc4",
   "metadata": {},
   "source": [
    "## Modelling"
   ]
  },
  {
   "cell_type": "markdown",
   "id": "7e586090-1fd2-4749-8d51-5db4afdab3a8",
   "metadata": {},
   "source": [
    "- Direct Regressor: Predicts outputs and prediction interval directly\n",
    "  - GBT with quantile loss\n",
    "  - deep learning with quantile loss\n",
    "- Ensemble Regressor: Uses a monte-carlo simulation to generate prediction interval\n",
    "  - GBT with ensemble\n",
    "  - deep learning with ensemble\n",
    "- CV ensemble modelling - fold cross validation"
   ]
  },
  {
   "cell_type": "code",
   "execution_count": 6,
   "id": "d937b77e-8627-4241-b27f-a6120e2e7a53",
   "metadata": {},
   "outputs": [],
   "source": [
    "CV_SPLIT = 5"
   ]
  },
  {
   "cell_type": "markdown",
   "id": "a2c0a222-3c42-458d-aec6-45ee388905ed",
   "metadata": {},
   "source": [
    "#### Load data"
   ]
  },
  {
   "cell_type": "code",
   "execution_count": 10,
   "id": "acec3e02-dc4a-417a-84a6-650dae703ad5",
   "metadata": {},
   "outputs": [
    {
     "name": "stderr",
     "output_type": "stream",
     "text": [
      "/tmp/ipykernel_284236/2340250852.py:1: DtypeWarning: Columns (19,20,21,22) have mixed types. Specify dtype option on import or set low_memory=False.\n",
      "  df = pd.read_csv(TRAIN)\n"
     ]
    }
   ],
   "source": [
    "df = pd.read_csv(TRAIN)"
   ]
  },
  {
   "cell_type": "markdown",
   "id": "542c4c96-565b-4516-885b-30445f183e46",
   "metadata": {},
   "source": [
    "### Train Test Split\n",
    "- Before generating rolling and lag features, we split the data to prevent data leakage.\n",
    "- Based on previous analysis, the dataset exhibits annual seasonality but no significant long-term trend.\n",
    "- Therefore, it is acceptable to use chronological or block-wise splits without always reserving the most recent data for validation.\n",
    "- This approach is appropriate for seasonally-repeating time series, where the assumption of trend-driven data drift does not hold.\n",
    "- In such cases, the model's ability to generalize across seasonal cycles is more important than strict recency."
   ]
  },
  {
   "cell_type": "code",
   "execution_count": 14,
   "id": "8b90e7de-c2a2-436f-98c5-687b8eb0e312",
   "metadata": {},
   "outputs": [
    {
     "name": "stdout",
     "output_type": "stream",
     "text": [
      "Years in fold 1\n",
      "Train: 1993 1994 1995 1996 1997 1998 1999 2000 2001 2002 2003 2004\n",
      "Validation: 1990 1991 1992\n",
      "-------------------------------------------------------------------------\n",
      "Years in fold 2\n",
      "Train: 1990 1991 1992 1996 1997 1998 1999 2000 2001 2002 2003 2004\n",
      "Validation: 1993 1994 1995\n",
      "-------------------------------------------------------------------------\n",
      "Years in fold 3\n",
      "Train: 1990 1991 1992 1993 1994 1995 1999 2000 2001 2002 2003 2004\n",
      "Validation: 1996 1997 1998\n",
      "-------------------------------------------------------------------------\n",
      "Years in fold 4\n",
      "Train: 1990 1991 1992 1993 1994 1995 1996 1997 1998 2002 2003 2004\n",
      "Validation: 1999 2000 2001\n",
      "-------------------------------------------------------------------------\n",
      "Years in fold 5\n",
      "Train: 1990 1991 1992 1993 1994 1995 1996 1997 1998 1999 2000 2001\n",
      "Validation: 2002 2003 2004\n",
      "-------------------------------------------------------------------------\n"
     ]
    }
   ],
   "source": [
    "cgkf = ContiguousGroupKFold(5)\n",
    "for idx, (train_ids, val_ids) in enumerate(cgkf.split(df, groups = df.year)):\n",
    "    print(f'Years in fold {idx + 1}')\n",
    "    print('Train:', *df.iloc[train_ids].year.unique())\n",
    "    print('Validation:', *df.iloc[val_ids].year.unique())\n",
    "    print('-------------------------------------------------------------------------')"
   ]
  },
  {
   "cell_type": "code",
   "execution_count": 53,
   "id": "da043a2a-93e5-4277-a3b0-b64b26b09b77",
   "metadata": {},
   "outputs": [],
   "source": [
    "import pandas as pd\n",
    "import numpy as np\n",
    "from sklearn.base import BaseEstimator, TransformerMixin\n",
    "\n",
    "class RollingFeaturesTransformer(BaseEstimator, TransformerMixin):\n",
    "    def __init__(self, window=3, functions=None, columns=None):\n",
    "        self.window = window\n",
    "        self.functions = functions or ['mean']\n",
    "        self.columns = columns  # list of columns to apply rolling functions on\n",
    "\n",
    "    def fit(self, X, y=None):\n",
    "        return self\n",
    "\n",
    "    def transform(self, X):\n",
    "        X_transformed = X.copy()\n",
    "        for col in self.columns:\n",
    "            for func in self.functions:\n",
    "                new_col_name = f\"{col}_rolling_{func}_{self.window}\"\n",
    "                if func == 'mean':\n",
    "                    X_transformed[new_col_name] = X_transformed[col].rolling(self.window).mean().bfill()\n",
    "                elif func == 'sum':\n",
    "                    X_transformed[new_col_name] = X_transformed[col].rolling(self.window).sum().bfill()\n",
    "                elif func == 'std':\n",
    "                    X_transformed[new_col_name] = X_transformed[col].rolling(self.window).std().bfill()\n",
    "                elif func == 'min':\n",
    "                    X_transformed[new_col_name] = X_transformed[col].rolling(self.window).min().bfill()\n",
    "                elif func == 'max':\n",
    "                    X_transformed[new_col_name] = X_transformed[col].rolling(self.window).max().bfill()\n",
    "                else:\n",
    "                    raise ValueError(f\"Unsupported function: {func}\")\n",
    "        return X_transformed\n",
    "\n",
    "    def fit_transform(self, X, y=None):\n",
    "        return self.transform(X)\n"
   ]
  },
  {
   "cell_type": "code",
   "execution_count": null,
   "id": "fc2e16b2-0611-49c8-aaad-0926805d3223",
   "metadata": {},
   "outputs": [],
   "source": [
    "\n",
    "class LagFeaturesTransformer(BaseEstimator, TransformerMixin):\n",
    "    def __init__(self, window=3, functions=None, columns=None):\n",
    "        self.window = window\n",
    "        self.columns = columns  # list of columns to apply rolling functions on\n",
    "\n",
    "    def fit(self, X, y=None):\n",
    "        return self\n",
    "\n",
    "    def transform(self, X):\n",
    "        X_transformed = X.copy()\n",
    "        for col in self.columns:\n",
    "            for func in self.functions:\n",
    "                new_col_name = f\"{col}_rolling_{func}_{self.window}\"\n",
    "                if func == 'mean':\n",
    "                    X_transformed[new_col_name] = X_transformed[col].rolling(self.window).mean().bfill()\n",
    "                elif func == 'sum':\n",
    "                    X_transformed[new_col_name] = X_transformed[col].rolling(self.window).sum().bfill()\n",
    "                elif func == 'std':\n",
    "                    X_transformed[new_col_name] = X_transformed[col].rolling(self.window).std().bfill()\n",
    "                elif func == 'min':\n",
    "                    X_transformed[new_col_name] = X_transformed[col].rolling(self.window).min().bfill()\n",
    "                elif func == 'max':\n",
    "                    X_transformed[new_col_name] = X_transformed[col].rolling(self.window).max().bfill()\n",
    "                else:\n",
    "                    raise ValueError(f\"Unsupported function: {func}\")\n",
    "        return X_transformed\n",
    "\n",
    "    def fit_transform(self, X, y=None):\n",
    "        return self.transform(X)\n"
   ]
  },
  {
   "cell_type": "code",
   "execution_count": 54,
   "id": "23b10c04-34db-4ecb-8ae4-ac41b1d50196",
   "metadata": {},
   "outputs": [],
   "source": [
    "rft = RollingFeaturesTransformer(3, functions = ['mean', 'sum'], columns = ['tp'])"
   ]
  },
  {
   "cell_type": "code",
   "execution_count": 55,
   "id": "93ba463b-7422-4132-9836-449d2b35716a",
   "metadata": {},
   "outputs": [
    {
     "data": {
      "text/html": [
       "<div>\n",
       "<style scoped>\n",
       "    .dataframe tbody tr th:only-of-type {\n",
       "        vertical-align: middle;\n",
       "    }\n",
       "\n",
       "    .dataframe tbody tr th {\n",
       "        vertical-align: top;\n",
       "    }\n",
       "\n",
       "    .dataframe thead th {\n",
       "        text-align: right;\n",
       "    }\n",
       "</style>\n",
       "<table border=\"1\" class=\"dataframe\">\n",
       "  <thead>\n",
       "    <tr style=\"text-align: right;\">\n",
       "      <th></th>\n",
       "      <th>tp</th>\n",
       "      <th>tp_rolling_mean_3</th>\n",
       "      <th>tp_rolling_sum_3</th>\n",
       "    </tr>\n",
       "  </thead>\n",
       "  <tbody>\n",
       "    <tr>\n",
       "      <th>0</th>\n",
       "      <td>6.853062e-05</td>\n",
       "      <td>0.000028</td>\n",
       "      <td>0.000085</td>\n",
       "    </tr>\n",
       "    <tr>\n",
       "      <th>1</th>\n",
       "      <td>1.560804e-05</td>\n",
       "      <td>0.000028</td>\n",
       "      <td>0.000085</td>\n",
       "    </tr>\n",
       "    <tr>\n",
       "      <th>2</th>\n",
       "      <td>5.732055e-07</td>\n",
       "      <td>0.000028</td>\n",
       "      <td>0.000085</td>\n",
       "    </tr>\n",
       "    <tr>\n",
       "      <th>3</th>\n",
       "      <td>8.079637e-05</td>\n",
       "      <td>0.000032</td>\n",
       "      <td>0.000097</td>\n",
       "    </tr>\n",
       "    <tr>\n",
       "      <th>4</th>\n",
       "      <td>1.040163e-05</td>\n",
       "      <td>0.000031</td>\n",
       "      <td>0.000092</td>\n",
       "    </tr>\n",
       "    <tr>\n",
       "      <th>...</th>\n",
       "      <td>...</td>\n",
       "      <td>...</td>\n",
       "      <td>...</td>\n",
       "    </tr>\n",
       "    <tr>\n",
       "      <th>28504</th>\n",
       "      <td>1.788707e-05</td>\n",
       "      <td>0.000109</td>\n",
       "      <td>0.000326</td>\n",
       "    </tr>\n",
       "    <tr>\n",
       "      <th>28505</th>\n",
       "      <td>1.555908e-04</td>\n",
       "      <td>0.000156</td>\n",
       "      <td>0.000468</td>\n",
       "    </tr>\n",
       "    <tr>\n",
       "      <th>28506</th>\n",
       "      <td>2.325291e-04</td>\n",
       "      <td>0.000135</td>\n",
       "      <td>0.000406</td>\n",
       "    </tr>\n",
       "    <tr>\n",
       "      <th>28507</th>\n",
       "      <td>1.206086e-04</td>\n",
       "      <td>0.000170</td>\n",
       "      <td>0.000509</td>\n",
       "    </tr>\n",
       "    <tr>\n",
       "      <th>28508</th>\n",
       "      <td>9.795030e-06</td>\n",
       "      <td>0.000121</td>\n",
       "      <td>0.000363</td>\n",
       "    </tr>\n",
       "  </tbody>\n",
       "</table>\n",
       "<p>28509 rows × 3 columns</p>\n",
       "</div>"
      ],
      "text/plain": [
       "                 tp  tp_rolling_mean_3  tp_rolling_sum_3\n",
       "0      6.853062e-05           0.000028          0.000085\n",
       "1      1.560804e-05           0.000028          0.000085\n",
       "2      5.732055e-07           0.000028          0.000085\n",
       "3      8.079637e-05           0.000032          0.000097\n",
       "4      1.040163e-05           0.000031          0.000092\n",
       "...             ...                ...               ...\n",
       "28504  1.788707e-05           0.000109          0.000326\n",
       "28505  1.555908e-04           0.000156          0.000468\n",
       "28506  2.325291e-04           0.000135          0.000406\n",
       "28507  1.206086e-04           0.000170          0.000509\n",
       "28508  9.795030e-06           0.000121          0.000363\n",
       "\n",
       "[28509 rows x 3 columns]"
      ]
     },
     "execution_count": 55,
     "metadata": {},
     "output_type": "execute_result"
    }
   ],
   "source": [
    "rft.fit_transform(df[['tp']])"
   ]
  },
  {
   "cell_type": "code",
   "execution_count": 56,
   "id": "ffc3ac80-6522-4b7f-9c2b-2e9f96f8688b",
   "metadata": {},
   "outputs": [],
   "source": [
    "p = Pipeline([\n",
    "    ('rf' , rft)\n",
    "])"
   ]
  },
  {
   "cell_type": "code",
   "execution_count": 57,
   "id": "29b314d7-5cb6-47a0-8baf-292961a5c6bb",
   "metadata": {},
   "outputs": [
    {
     "data": {
      "text/html": [
       "<div>\n",
       "<style scoped>\n",
       "    .dataframe tbody tr th:only-of-type {\n",
       "        vertical-align: middle;\n",
       "    }\n",
       "\n",
       "    .dataframe tbody tr th {\n",
       "        vertical-align: top;\n",
       "    }\n",
       "\n",
       "    .dataframe thead th {\n",
       "        text-align: right;\n",
       "    }\n",
       "</style>\n",
       "<table border=\"1\" class=\"dataframe\">\n",
       "  <thead>\n",
       "    <tr style=\"text-align: right;\">\n",
       "      <th></th>\n",
       "      <th>tp</th>\n",
       "      <th>t2m</th>\n",
       "      <th>tp_rolling_mean_3</th>\n",
       "      <th>tp_rolling_sum_3</th>\n",
       "    </tr>\n",
       "  </thead>\n",
       "  <tbody>\n",
       "    <tr>\n",
       "      <th>0</th>\n",
       "      <td>6.853062e-05</td>\n",
       "      <td>294.95035</td>\n",
       "      <td>0.000028</td>\n",
       "      <td>0.000085</td>\n",
       "    </tr>\n",
       "    <tr>\n",
       "      <th>1</th>\n",
       "      <td>1.560804e-05</td>\n",
       "      <td>295.11826</td>\n",
       "      <td>0.000028</td>\n",
       "      <td>0.000085</td>\n",
       "    </tr>\n",
       "    <tr>\n",
       "      <th>2</th>\n",
       "      <td>5.732055e-07</td>\n",
       "      <td>295.49854</td>\n",
       "      <td>0.000028</td>\n",
       "      <td>0.000085</td>\n",
       "    </tr>\n",
       "    <tr>\n",
       "      <th>3</th>\n",
       "      <td>8.079637e-05</td>\n",
       "      <td>296.61980</td>\n",
       "      <td>0.000032</td>\n",
       "      <td>0.000097</td>\n",
       "    </tr>\n",
       "    <tr>\n",
       "      <th>4</th>\n",
       "      <td>1.040163e-05</td>\n",
       "      <td>295.95758</td>\n",
       "      <td>0.000031</td>\n",
       "      <td>0.000092</td>\n",
       "    </tr>\n",
       "    <tr>\n",
       "      <th>...</th>\n",
       "      <td>...</td>\n",
       "      <td>...</td>\n",
       "      <td>...</td>\n",
       "      <td>...</td>\n",
       "    </tr>\n",
       "    <tr>\n",
       "      <th>28504</th>\n",
       "      <td>1.788707e-05</td>\n",
       "      <td>278.38266</td>\n",
       "      <td>0.000109</td>\n",
       "      <td>0.000326</td>\n",
       "    </tr>\n",
       "    <tr>\n",
       "      <th>28505</th>\n",
       "      <td>1.555908e-04</td>\n",
       "      <td>277.25555</td>\n",
       "      <td>0.000156</td>\n",
       "      <td>0.000468</td>\n",
       "    </tr>\n",
       "    <tr>\n",
       "      <th>28506</th>\n",
       "      <td>2.325291e-04</td>\n",
       "      <td>275.85210</td>\n",
       "      <td>0.000135</td>\n",
       "      <td>0.000406</td>\n",
       "    </tr>\n",
       "    <tr>\n",
       "      <th>28507</th>\n",
       "      <td>1.206086e-04</td>\n",
       "      <td>273.75018</td>\n",
       "      <td>0.000170</td>\n",
       "      <td>0.000509</td>\n",
       "    </tr>\n",
       "    <tr>\n",
       "      <th>28508</th>\n",
       "      <td>9.795030e-06</td>\n",
       "      <td>273.10657</td>\n",
       "      <td>0.000121</td>\n",
       "      <td>0.000363</td>\n",
       "    </tr>\n",
       "  </tbody>\n",
       "</table>\n",
       "<p>28509 rows × 4 columns</p>\n",
       "</div>"
      ],
      "text/plain": [
       "                 tp        t2m  tp_rolling_mean_3  tp_rolling_sum_3\n",
       "0      6.853062e-05  294.95035           0.000028          0.000085\n",
       "1      1.560804e-05  295.11826           0.000028          0.000085\n",
       "2      5.732055e-07  295.49854           0.000028          0.000085\n",
       "3      8.079637e-05  296.61980           0.000032          0.000097\n",
       "4      1.040163e-05  295.95758           0.000031          0.000092\n",
       "...             ...        ...                ...               ...\n",
       "28504  1.788707e-05  278.38266           0.000109          0.000326\n",
       "28505  1.555908e-04  277.25555           0.000156          0.000468\n",
       "28506  2.325291e-04  275.85210           0.000135          0.000406\n",
       "28507  1.206086e-04  273.75018           0.000170          0.000509\n",
       "28508  9.795030e-06  273.10657           0.000121          0.000363\n",
       "\n",
       "[28509 rows x 4 columns]"
      ]
     },
     "execution_count": 57,
     "metadata": {},
     "output_type": "execute_result"
    }
   ],
   "source": [
    "p.fit_transform(df[['tp', 't2m']])"
   ]
  },
  {
   "cell_type": "code",
   "execution_count": null,
   "id": "d462dc23-16bb-4fd2-8d80-4c3ad940ab07",
   "metadata": {},
   "outputs": [],
   "source": []
  }
 ],
 "metadata": {
  "kernelspec": {
   "display_name": "Python [conda env:zindi_geoai]",
   "language": "python",
   "name": "conda-env-zindi_geoai-py"
  },
  "language_info": {
   "codemirror_mode": {
    "name": "ipython",
    "version": 3
   },
   "file_extension": ".py",
   "mimetype": "text/x-python",
   "name": "python",
   "nbconvert_exporter": "python",
   "pygments_lexer": "ipython3",
   "version": "3.12.5"
  }
 },
 "nbformat": 4,
 "nbformat_minor": 5
}
